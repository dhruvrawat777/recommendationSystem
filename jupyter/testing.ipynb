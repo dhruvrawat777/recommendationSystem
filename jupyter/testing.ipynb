{
 "cells": [
  {
   "cell_type": "code",
   "execution_count": 4,
   "metadata": {},
   "outputs": [],
   "source": [
    "from sklearn.metrics.pairwise import linear_kernel\n",
    "from sklearn.feature_extraction.text import CountVectorizer\n",
    "import pandas as pd\n",
    "import numpy as np\n",
    "import sys"
   ]
  },
  {
   "cell_type": "code",
   "execution_count": 5,
   "metadata": {},
   "outputs": [],
   "source": [
    "credits = pd.read_csv('../backend/tmdb_5000_credits.csv')\n",
    "movies = pd.read_csv(\"../backend/tmdb_5000_movies.csv\")"
   ]
  },
  {
   "cell_type": "code",
   "execution_count": 6,
   "metadata": {},
   "outputs": [],
   "source": [
    "#merging both files\n",
    "movies=movies.rename(index=str,columns={'id':'movie_id'})\n",
    "movies = movies.merge(credits, on='movie_id')"
   ]
  },
  {
   "cell_type": "code",
   "execution_count": 7,
   "metadata": {},
   "outputs": [],
   "source": [
    "movies['overview'] = movies['overview'].fillna('')"
   ]
  },
  {
   "cell_type": "code",
   "execution_count": 8,
   "metadata": {},
   "outputs": [
    {
     "data": {
      "text/plain": [
       "0       In the 22nd century, a paraplegic Marine is di...\n",
       "1       Captain Barbossa, long believed to be dead, ha...\n",
       "2       A cryptic message from Bond’s past sends him o...\n",
       "3       Following the death of District Attorney Harve...\n",
       "4       John Carter is a war-weary, former military ca...\n",
       "                              ...                        \n",
       "4798    El Mariachi just wants to play his guitar and ...\n",
       "4799    A newlywed couple's honeymoon is upended by th...\n",
       "4800    \"Signed, Sealed, Delivered\" introduces a dedic...\n",
       "4801    When ambitious New York attorney Sam is sent t...\n",
       "4802    Ever since the second grade when he first saw ...\n",
       "Name: overview, Length: 4803, dtype: object"
      ]
     },
     "execution_count": 8,
     "metadata": {},
     "output_type": "execute_result"
    }
   ],
   "source": [
    "movies['overview']"
   ]
  },
  {
   "cell_type": "code",
   "execution_count": 9,
   "metadata": {},
   "outputs": [],
   "source": [
    "countvectorizer = CountVectorizer()\n",
    "countvectorizer_matrix = countvectorizer.fit_transform(movies['overview'])"
   ]
  },
  {
   "cell_type": "code",
   "execution_count": 10,
   "metadata": {},
   "outputs": [
    {
     "name": "stdout",
     "output_type": "stream",
     "text": [
      "(4803, 21262)\n"
     ]
    }
   ],
   "source": [
    "print(countvectorizer_matrix.shape)"
   ]
  },
  {
   "cell_type": "code",
   "execution_count": 90,
   "metadata": {},
   "outputs": [
    {
     "name": "stdout",
     "output_type": "stream",
     "text": [
      "(4803, 4803)\n",
      "[[ 28.  12.  10. ...  18.  11.   9.]\n",
      " [ 12.  46.  17. ...  23.  21.  13.]\n",
      " [ 10.  17.  51. ...  25.  15.  14.]\n",
      " ...\n",
      " [ 18.  23.  25. ... 112.  32.  19.]\n",
      " [ 11.  21.  15. ...  32.  84.  22.]\n",
      " [  9.  13.  14. ...  19.  22.  80.]]\n"
     ]
    }
   ],
   "source": [
    "kernel = linear_kernel(countvectorizer_matrix, countvectorizer_matrix)\n",
    "\n",
    "indexes = pd.Series(movies.index,index=movies['original_title'])\n",
    "print(kernel.shape)"
   ]
  },
  {
   "cell_type": "code",
   "execution_count": 12,
   "metadata": {},
   "outputs": [
    {
     "name": "stdout",
     "output_type": "stream",
     "text": [
      "original_title\n",
      "Avatar                                         0\n",
      "Pirates of the Caribbean: At World's End       1\n",
      "Spectre                                        2\n",
      "The Dark Knight Rises                          3\n",
      "John Carter                                    4\n",
      "                                            ... \n",
      "El Mariachi                                 4798\n",
      "Newlyweds                                   4799\n",
      "Signed, Sealed, Delivered                   4800\n",
      "Shanghai Calling                            4801\n",
      "My Date with Drew                           4802\n",
      "Length: 4803, dtype: int64\n"
     ]
    }
   ],
   "source": [
    "print(indexes)"
   ]
  },
  {
   "cell_type": "code",
   "execution_count": 13,
   "metadata": {},
   "outputs": [],
   "source": [
    "#title = sys.argv[1]\n",
    "title=\"Deadpool\""
   ]
  },
  {
   "cell_type": "code",
   "execution_count": 14,
   "metadata": {},
   "outputs": [
    {
     "name": "stdout",
     "output_type": "stream",
     "text": [
      "788\n"
     ]
    }
   ],
   "source": [
    "f=0\n",
    "idx=-1\n",
    "for i in indexes.iteritems():\n",
    "    if(i[0]==title):\n",
    "        f=1\n",
    "        #print(\"found\")\n",
    "        idx=i[1]\n",
    "        break\n",
    "if f==0:\n",
    "    res=\"Not Found\"\n",
    "    print(res)\n",
    "    sys.stdout.flush()\n",
    "    exit(0)\n",
    "print(idx)"
   ]
  },
  {
   "cell_type": "code",
   "execution_count": 59,
   "metadata": {},
   "outputs": [
    {
     "data": {
      "text/plain": [
       "4803"
      ]
     },
     "execution_count": 59,
     "metadata": {},
     "output_type": "execute_result"
    }
   ],
   "source": [
    "#Find similarity\n",
    "similarity = list(enumerate(kernel[idx]))\n",
    "len(similarity)\n",
    "#print(similarity)"
   ]
  },
  {
   "cell_type": "code",
   "execution_count": 60,
   "metadata": {},
   "outputs": [
    {
     "name": "stdout",
     "output_type": "stream",
     "text": [
      "[(274, 103.0), (2647, 101.0), (3432, 101.0), (4123, 96.0), (847, 93.0), (4562, 90.0)]\n"
     ]
    }
   ],
   "source": [
    "#Sort by descnding to get top matches\n",
    "similarity = sorted(similarity, key=lambda x: x[1], reverse=True)\n",
    "#similarity=similarity.sort(key=lambda x:x[1],reverse=True)\n",
    "similarity = similarity[0:6]\n",
    "print(similarity)"
   ]
  },
  {
   "cell_type": "code",
   "execution_count": 67,
   "metadata": {},
   "outputs": [],
   "source": [
    "movie_indexes = []\n",
    "movie_scores=[]\n",
    "for row in similarity:\n",
    "    movie_indexes.append(row[0])\n",
    "    movie_scores.append(row[1])"
   ]
  },
  {
   "cell_type": "code",
   "execution_count": 68,
   "metadata": {},
   "outputs": [
    {
     "name": "stdout",
     "output_type": "stream",
     "text": [
      "[274, 2647, 3432, 4123, 847, 4562]\n"
     ]
    }
   ],
   "source": [
    "print(movie_indexes)"
   ]
  },
  {
   "cell_type": "code",
   "execution_count": 78,
   "metadata": {},
   "outputs": [
    {
     "name": "stdout",
     "output_type": "stream",
     "text": [
      "(6,)\n",
      "274                                    Gladiator\n",
      "2647                     The Midnight Meat Train\n",
      "3432    The Work and the Glory II: American Zion\n",
      "4123                              Roadside Romeo\n",
      "847                                     Semi-Pro\n",
      "4562                    The Little Ponderosa Zoo\n",
      "Name: original_title, dtype: object\n"
     ]
    }
   ],
   "source": [
    "x=movies['original_title'].iloc[movie_indexes]\n",
    "print(np.shape(x))\n",
    "print(x)"
   ]
  },
  {
   "cell_type": "code",
   "execution_count": 86,
   "metadata": {},
   "outputs": [
    {
     "name": "stdout",
     "output_type": "stream",
     "text": [
      "['Gladiator:103.0', 'The Midnight Meat Train:101.0', 'The Work and the Glory II: American Zion:101.0', 'Roadside Romeo:96.0', 'Semi-Pro:93.0', 'The Little Ponderosa Zoo:90.0']\n"
     ]
    }
   ],
   "source": [
    "res=[]\n",
    "for i in range(len(x)):\n",
    "    res.append(x.iloc[i]+\":\"+str(movie_scores[i]))\n",
    "    #res.append(movie_scores[i])\n",
    "print(res)\n",
    "#sys.stdout.flush()"
   ]
  },
  {
   "cell_type": "code",
   "execution_count": null,
   "metadata": {},
   "outputs": [],
   "source": []
  }
 ],
 "metadata": {
  "interpreter": {
   "hash": "6e43f85b8c899b31f9c6e20303c90261e28e4bc4148d5526e30491a7115eaa38"
  },
  "kernelspec": {
   "display_name": "Python 3",
   "language": "python",
   "name": "python3"
  },
  "language_info": {
   "codemirror_mode": {
    "name": "ipython",
    "version": 3
   },
   "file_extension": ".py",
   "mimetype": "text/x-python",
   "name": "python",
   "nbconvert_exporter": "python",
   "pygments_lexer": "ipython3",
   "version": "3.8.3"
  }
 },
 "nbformat": 4,
 "nbformat_minor": 2
}
