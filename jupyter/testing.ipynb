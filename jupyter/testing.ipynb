{
 "metadata": {
  "language_info": {
   "codemirror_mode": {
    "name": "ipython",
    "version": 3
   },
   "file_extension": ".py",
   "mimetype": "text/x-python",
   "name": "python",
   "nbconvert_exporter": "python",
   "pygments_lexer": "ipython3",
   "version": "3.8.3"
  },
  "orig_nbformat": 4,
  "kernelspec": {
   "name": "python3",
   "display_name": "Python 3.8.3 64-bit ('base': conda)"
  },
  "interpreter": {
   "hash": "6e43f85b8c899b31f9c6e20303c90261e28e4bc4148d5526e30491a7115eaa38"
  }
 },
 "nbformat": 4,
 "nbformat_minor": 2,
 "cells": [
  {
   "cell_type": "code",
   "execution_count": 1,
   "metadata": {},
   "outputs": [],
   "source": [
    "#from numpy.core.fromnumeric import shape\n",
    "from sklearn.metrics.pairwise import linear_kernel\n",
    "from sklearn.feature_extraction.text import CountVectorizer\n",
    "import pandas as pd\n",
    "import numpy as np\n",
    "#import seaborn as sns\n",
    "import sys\n",
    "\n",
    "credits = pd.read_csv('../backend/tmdb_5000_credits.csv')\n",
    "movies = pd.read_csv(\"../backend/tmdb_5000_movies.csv\")\n",
    "movies=movies.rename(index=str,columns={'id':'movie_id'})\n",
    "movies = movies.merge(credits, on='movie_id')\n",
    "\n",
    "\n",
    "countvectorizer = CountVectorizer()\n",
    "\n",
    "# Filling NaN with empty\n",
    "movies['overview'] = movies['overview'].fillna('')\n",
    "\n",
    "\n",
    "countvectorizer_matrix = countvectorizer.fit_transform(movies['overview'])\n",
    "\n",
    "kernel = linear_kernel(countvectorizer_matrix, countvectorizer_matrix)\n",
    "\n",
    "indexes = pd.Series(movies.index,index=movies['original_title'])\n"
   ]
  },
  {
   "cell_type": "code",
   "execution_count": 25,
   "metadata": {
    "tags": []
   },
   "outputs": [
    {
     "output_type": "stream",
     "name": "stdout",
     "text": [
      "found\n788\n"
     ]
    }
   ],
   "source": [
    "title=\"Deadpool\"\n",
    "f=0\n",
    "for i in indexes.iteritems():\n",
    "    if(i[0]==title):\n",
    "        f=1\n",
    "        print(\"found\")\n",
    "        print(i[1])\n",
    "if f==0:\n",
    "    print(\"not\")"
   ]
  },
  {
   "cell_type": "code",
   "execution_count": 13,
   "metadata": {},
   "outputs": [
    {
     "output_type": "execute_result",
     "data": {
      "text/plain": [
       "pandas.core.series.Series"
      ]
     },
     "metadata": {},
     "execution_count": 13
    }
   ],
   "source": [
    "type(indexes)"
   ]
  }
 ]
}