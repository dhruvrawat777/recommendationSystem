{
 "cells": [
  {
   "cell_type": "code",
   "execution_count": 1,
   "metadata": {},
   "outputs": [],
   "source": [
    "from sklearn.metrics.pairwise import linear_kernel\n",
    "from sklearn.feature_extraction.text import CountVectorizer\n",
    "import pandas as pd\n",
    "import numpy as np\n",
    "import sys"
   ]
  },
  {
   "cell_type": "code",
   "execution_count": 2,
   "metadata": {},
   "outputs": [],
   "source": [
    "credits = pd.read_csv('../backend/tmdb_5000_credits.csv')\n",
    "movies = pd.read_csv(\"../backend/tmdb_5000_movies.csv\")\n"
   ]
  },
  {
   "cell_type": "code",
   "execution_count": 3,
   "metadata": {},
   "outputs": [],
   "source": [
    "#merging both files\n",
    "movies=movies.rename(index=str,columns={'id':'movie_id'})\n",
    "movies = movies.merge(credits, on='movie_id')\n"
   ]
  },
  {
   "cell_type": "code",
   "execution_count": 4,
   "metadata": {},
   "outputs": [],
   "source": [
    "\n",
    "movies['overview'] = movies['overview'].fillna('')"
   ]
  },
  {
   "cell_type": "code",
   "execution_count": 5,
   "metadata": {},
   "outputs": [],
   "source": [
    "countvectorizer = CountVectorizer()\n",
    "countvectorizer_matrix = countvectorizer.fit_transform(movies['overview'])"
   ]
  },
  {
   "cell_type": "code",
   "execution_count": 6,
   "metadata": {},
   "outputs": [],
   "source": [
    "kernel = linear_kernel(countvectorizer_matrix, countvectorizer_matrix)\n",
    "\n",
    "indexes = pd.Series(movies.index,index=movies['original_title'])\n"
   ]
  },
  {
   "cell_type": "code",
   "execution_count": 7,
   "metadata": {},
   "outputs": [],
   "source": [
    "#title = sys.argv[1]\n",
    "title=\"Deadpool\"\n",
    "#idx=indexes.first_valid_index(title)\n",
    "#idx = indexes[title]"
   ]
  },
  {
   "cell_type": "code",
   "execution_count": 8,
   "metadata": {},
   "outputs": [],
   "source": [
    "f=0\n",
    "idx=-1\n",
    "for i in indexes.iteritems():\n",
    "    if(i[0]==title):\n",
    "        f=1\n",
    "        #print(\"found\")\n",
    "        idx=i[1]\n",
    "        break\n",
    "if f==0:\n",
    "    res=\"Not Found\"\n",
    "    print(res)\n",
    "    sys.stdout.flush()\n",
    "    exit(0)\n"
   ]
  },
  {
   "cell_type": "code",
   "execution_count": 9,
   "metadata": {},
   "outputs": [],
   "source": [
    "#Find similarity\n",
    "similarity = list(enumerate(kernel[idx]))\n",
    "\n",
    "#Sort by descnding to get top matches\n",
    "similarity = sorted(similarity, key=lambda x: x[1], reverse=True)\n",
    "\n",
    "\n",
    "similarity = similarity[1:7]\n",
    "movie_indexes = [i[0] for i in similarity]\n"
   ]
  },
  {
   "cell_type": "code",
   "execution_count": 10,
   "metadata": {},
   "outputs": [
    {
     "name": "stdout",
     "output_type": "stream",
     "text": [
      "['The Midnight Meat Train', 'The Work and the Glory II: American Zion', 'Roadside Romeo', 'Semi-Pro', 'The Little Ponderosa Zoo', 'Once in a Lifetime: The Extraordinary Story of the New York Cosmos']\n"
     ]
    }
   ],
   "source": [
    "x=movies['original_title'].iloc[movie_indexes]\n",
    "res=[]\n",
    "#print(shape(x))\n",
    "for item in x:\n",
    "    res.append(item)\n",
    "\n",
    "print(res)\n",
    "#sys.stdout.flush()"
   ]
  },
  {
   "cell_type": "code",
   "execution_count": null,
   "metadata": {},
   "outputs": [],
   "source": []
  },
  {
   "cell_type": "code",
   "execution_count": null,
   "metadata": {},
   "outputs": [],
   "source": []
  }
 ],
 "metadata": {
  "interpreter": {
   "hash": "6e43f85b8c899b31f9c6e20303c90261e28e4bc4148d5526e30491a7115eaa38"
  },
  "kernelspec": {
   "display_name": "Python 3",
   "language": "python",
   "name": "python3"
  },
  "language_info": {
   "codemirror_mode": {
    "name": "ipython",
    "version": 3
   },
   "file_extension": ".py",
   "mimetype": "text/x-python",
   "name": "python",
   "nbconvert_exporter": "python",
   "pygments_lexer": "ipython3",
   "version": "3.8.3"
  }
 },
 "nbformat": 4,
 "nbformat_minor": 2
}
